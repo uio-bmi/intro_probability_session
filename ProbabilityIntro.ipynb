{
 "cells": [
  {
   "cell_type": "markdown",
   "metadata": {
    "collapsed": true
   },
   "source": [
    "# Introduction to Probability\n",
    "\n",
    "This notebook accompanies the Introduction to Probability lecture and includes the simulations and visualizations for different examples of the use of probability theory in practice. The aim of these examples is to build an intuition on how probability works."
   ]
  },
  {
   "cell_type": "code",
   "execution_count": 20,
   "metadata": {},
   "outputs": [],
   "source": [
    "import random\n",
    "import numpy as np\n",
    "import matplotlib.pyplot as plt"
   ]
  },
  {
   "cell_type": "markdown",
   "metadata": {},
   "source": [
    "## Example 1: a coin toss"
   ]
  },
  {
   "cell_type": "code",
   "execution_count": 11,
   "metadata": {},
   "outputs": [
    {
     "data": {
      "text/plain": [
       "'head'"
      ]
     },
     "execution_count": 11,
     "metadata": {},
     "output_type": "execute_result"
    }
   ],
   "source": [
    "possible_outcomes = {'head', 'tail'}\n",
    "\n",
    "def toss_coin(possible_outcomes):\n",
    "    outcome = random.sample(possible_outcomes, 1)[0]\n",
    "    return outcome\n",
    "\n",
    "toss_coin(possible_outcomes)"
   ]
  },
  {
   "cell_type": "code",
   "execution_count": 12,
   "metadata": {},
   "outputs": [
    {
     "data": {
      "text/plain": [
       "['head',\n",
       " 'tail',\n",
       " 'head',\n",
       " 'head',\n",
       " 'tail',\n",
       " 'tail',\n",
       " 'tail',\n",
       " 'tail',\n",
       " 'tail',\n",
       " 'tail']"
      ]
     },
     "execution_count": 12,
     "metadata": {},
     "output_type": "execute_result"
    }
   ],
   "source": [
    "def toss_coins(possible_outcomes, count):\n",
    "    outcomes = []\n",
    "    for i in range(count):\n",
    "        outcome = toss_coin(possible_outcomes)\n",
    "        outcomes.append(outcome)\n",
    "    return outcomes\n",
    "\n",
    "toss_coins(possible_outcomes, 10)"
   ]
  },
  {
   "cell_type": "code",
   "execution_count": 19,
   "metadata": {},
   "outputs": [
    {
     "data": {
      "text/plain": [
       "{'10 tosses': {'head': 4, 'tail': 6},\n",
       " '20 tosses': {'head': 10, 'tail': 10},\n",
       " '50 tosses': {'head': 26, 'tail': 24}}"
      ]
     },
     "execution_count": 19,
     "metadata": {},
     "output_type": "execute_result"
    }
   ],
   "source": [
    "# how often do we get head vs tail?\n",
    "\n",
    "def count_outcomes(outcomes):\n",
    "    values, counts = np.unique(outcomes, return_counts=True)\n",
    "    return dict(zip(values, counts))\n",
    "\n",
    "toss_counts = [10, 20, 50]\n",
    "\n",
    "def count_outcomes_per_toss(toss_counts):\n",
    "    result = {}\n",
    "    for toss_count in toss_counts:\n",
    "        outcomes = toss_coins(possible_outcomes, toss_count)\n",
    "        result[f\"{toss_count} tosses\"] = count_outcomes(outcomes)\n",
    "    return result\n",
    "\n",
    "outcomes_per_toss = count_outcomes_per_toss(toss_counts)\n",
    "outcomes_per_toss"
   ]
  },
  {
   "cell_type": "code",
   "execution_count": 61,
   "metadata": {},
   "outputs": [
    {
     "data": {
      "image/png": "[encoded data removed]",
      "text/plain": [
       "<Figure size 432x288 with 3 Axes>"
      ]
     },
     "metadata": {
      "needs_background": "light"
     },
     "output_type": "display_data"
    }
   ],
   "source": [
    "def plot_outcomes_per_toss(outcomes_per_toss):\n",
    "    fig, axs = plt.subplots(1, len(outcomes_per_toss.keys()), clear=True, sharey=True)\n",
    "    i = 0\n",
    "    for name, value in outcomes_per_toss.items():\n",
    "        axs[i].bar(value.keys(), value.values())\n",
    "        i+=1\n",
    "\n",
    "plot_outcomes_per_toss(outcomes_per_toss)"
   ]
  },
  {
   "cell_type": "markdown",
   "metadata": {},
   "source": [
    "If we get heads and tails equally, we can think that a coin is fair. Are these coins fair? \n",
    "\n",
    "Write a function that instead of counts, plots the percentage of time heads and tails are obtained. Use the `plot_outcomes_per_toss` function as a starting point. "
   ]
  },
  {
   "cell_type": "code",
   "execution_count": 51,
   "metadata": {},
   "outputs": [
    {
     "data": {
      "image/png": "[encoded data removed]",
      "text/plain": [
       "<Figure size 432x288 with 3 Axes>"
      ]
     },
     "metadata": {
      "needs_background": "light"
     },
     "output_type": "display_data"
    }
   ],
   "source": [
    "def plot_outcomes_per_toss_percentage(outcomes_per_toss):\n",
    "    fig, axs = plt.subplots(1, len(outcomes_per_toss.keys()), clear=True, sharey=True)\n",
    "    i = 0\n",
    "    for name, value in outcomes_per_toss.items():\n",
    "        axs[i].bar(value.keys(), np.array(list(value.values()))/sum(value.values()))\n",
    "        i+=1\n",
    "\n",
    "plot_outcomes_per_toss_percentage(outcomes_per_toss)"
   ]
  },
  {
   "cell_type": "code",
   "execution_count": null,
   "metadata": {},
   "outputs": [],
   "source": []
  }
 ],
 "metadata": {
  "kernelspec": {
   "display_name": "Python 3",
   "language": "python",
   "name": "python3"
  },
  "language_info": {
   "codemirror_mode": {
    "name": "ipython",
    "version": 3
   },
   "file_extension": ".py",
   "mimetype": "text/x-python",
   "name": "python",
   "nbconvert_exporter": "python",
   "pygments_lexer": "ipython3",
   "version": "3.8.3"
  },
  "varInspector": {
   "cols": {
    "lenName": 16,
    "lenType": 16,
    "lenVar": 40
   },
   "kernels_config": {
    "python": {
     "delete_cmd_postfix": "",
     "delete_cmd_prefix": "del ",
     "library": "var_list.py",
     "varRefreshCmd": "print(var_dic_list())"
    },
    "r": {
     "delete_cmd_postfix": ") ",
     "delete_cmd_prefix": "rm(",
     "library": "var_list.r",
     "varRefreshCmd": "cat(var_dic_list()) "
    }
   },
   "types_to_exclude": [
    "module",
    "function",
    "builtin_function_or_method",
    "instance",
    "_Feature"
   ],
   "window_display": false
  }
 },
 "nbformat": 4,
 "nbformat_minor": 1
}