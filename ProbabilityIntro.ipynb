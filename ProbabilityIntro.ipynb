{
 "cells": [
  {
   "cell_type": "markdown",
   "metadata": {
    "collapsed": true
   },
   "source": [
    "# Introduction to Probability\n",
    "\n",
    "This notebook accompanies the Introduction to Probability lecture and includes the simulations and visualizations for different examples of the use of probability theory in practice. The aim of these examples is to build an intuition on how probability works."
   ]
  },
  {
   "cell_type": "code",
   "execution_count": 41,
   "metadata": {},
   "outputs": [],
   "source": [
    "import random\n",
    "import numpy as np\n",
    "import matplotlib.pyplot as plt\n",
    "from scipy.stats import binom, bernoulli"
   ]
  },
  {
   "cell_type": "markdown",
   "metadata": {},
   "source": [
    "## Example 1: a coin toss"
   ]
  },
  {
   "cell_type": "code",
   "execution_count": 28,
   "metadata": {},
   "outputs": [
    {
     "data": {
      "text/plain": [
       "'tail'"
      ]
     },
     "execution_count": 28,
     "metadata": {},
     "output_type": "execute_result"
    }
   ],
   "source": [
    "possible_outcomes = ['head', 'tail']\n",
    "\n",
    "def toss_coin(possible_outcomes):\n",
    "    outcome = random.sample(possible_outcomes, 1)[0]\n",
    "    return outcome\n",
    "\n",
    "toss_coin(possible_outcomes)"
   ]
  },
  {
   "cell_type": "code",
   "execution_count": 29,
   "metadata": {},
   "outputs": [
    {
     "data": {
      "text/plain": [
       "['tail',\n",
       " 'tail',\n",
       " 'tail',\n",
       " 'head',\n",
       " 'tail',\n",
       " 'tail',\n",
       " 'tail',\n",
       " 'head',\n",
       " 'tail',\n",
       " 'head']"
      ]
     },
     "execution_count": 29,
     "metadata": {},
     "output_type": "execute_result"
    }
   ],
   "source": [
    "def toss_coin_multiple_times(possible_outcomes, count):\n",
    "    outcomes = []\n",
    "    for i in range(count):\n",
    "        outcome = toss_coin(possible_outcomes)\n",
    "        outcomes.append(outcome)\n",
    "    return outcomes\n",
    "\n",
    "toss_coin_multiple_times(possible_outcomes, 10)"
   ]
  },
  {
   "cell_type": "code",
   "execution_count": 30,
   "metadata": {},
   "outputs": [],
   "source": [
    "# how often do we get head vs tail?\n",
    "\n",
    "def count_outcomes(outcomes):\n",
    "    outcome_summary = {} \n",
    "    for outcome in outcomes:\n",
    "        if outcome in outcome_summary:\n",
    "            outcome_summary[outcome] += 1\n",
    "        else:\n",
    "            outcome_summary[outcome] = 1\n",
    "    return outcome_summary\n",
    "\n",
    "def plot_outcomes(outcomes_summary):\n",
    "    fig, ax = plt.subplots(clear=True)\n",
    "    x_values = list(outcomes_summary.keys())\n",
    "    y_values = list(outcomes_summary.values())\n",
    "    ax.bar(x_values, y_values)\n",
    "    ax.title.set_text(f\"{sum(y_values)} tosses\")\n",
    "    ax.set_xticks(x_values)\n"
   ]
  },
  {
   "cell_type": "code",
   "execution_count": 31,
   "metadata": {},
   "outputs": [
    {
     "name": "stdout",
     "output_type": "stream",
     "text": [
      "{'head': 7, 'tail': 3}\n"
     ]
    },
    {
     "data": {
      "image/png": "[encoded data removed]",
      "text/plain": [
       "<Figure size 432x288 with 1 Axes>"
      ]
     },
     "metadata": {
      "needs_background": "light"
     },
     "output_type": "display_data"
    }
   ],
   "source": [
    "outcomes = toss_coin_multiple_times(possible_outcomes, count=10)\n",
    "outcomes_summary = count_outcomes(outcomes)\n",
    "print(outcomes_summary)\n",
    "plot_outcomes(outcomes_summary)"
   ]
  },
  {
   "cell_type": "markdown",
   "metadata": {},
   "source": [
    "Look into the results above: \n",
    "\n",
    "- did you ever get 10 heads or 10 tails, and 0 for the other option?\n",
    "- what happens if there are more tosses, say 100?"
   ]
  },
  {
   "cell_type": "code",
   "execution_count": 32,
   "metadata": {
    "scrolled": true
   },
   "outputs": [
    {
     "data": {
      "image/png": "[encoded data removed]",
      "text/plain": [
       "<Figure size 432x288 with 1 Axes>"
      ]
     },
     "metadata": {
      "needs_background": "light"
     },
     "output_type": "display_data"
    }
   ],
   "source": [
    "def plot_outcomes_normalized(outcomes_summary):\n",
    "    fig, ax = plt.subplots(clear=True)\n",
    "    toss_count = sum(list(outcomes_summary.values()))\n",
    "    x_values = list(outcomes_summary.keys())\n",
    "    y_values = np.array(list(outcomes_summary.values())) / toss_count\n",
    "    ax.bar(x_values, y_values)\n",
    "    ax.title.set_text(f\"{toss_count} tosses\")\n",
    "    ax.set_xticks(x_values)\n",
    "\n",
    "plot_outcomes_normalized(outcomes_summary)"
   ]
  },
  {
   "cell_type": "code",
   "execution_count": 33,
   "metadata": {},
   "outputs": [],
   "source": [
    "# here go to slides and briefly introduce the concept of probability distribution \n",
    "# (slides 3-5 https://docs.google.com/presentation/d/1YInfL0FQCwfKzl20R0SuDB0SuvpoQVQ7dYsTHFY5-D4/edit?usp=sharing)"
   ]
  },
  {
   "cell_type": "markdown",
   "metadata": {},
   "source": [
    "# Example 2: Rolling a die\n",
    "\n",
    "What if instead of a coin, we had a die? What would the simulation look like then?"
   ]
  },
  {
   "cell_type": "code",
   "execution_count": 39,
   "metadata": {},
   "outputs": [],
   "source": [
    "# TODO: write the same simulation here, but instead of tossing a coin, the simulation should roll a 6-sided die"
   ]
  },
  {
   "cell_type": "markdown",
   "metadata": {},
   "source": [
    "# Example 3: Weighted coin\n",
    "\n",
    "Going back to the coin example: what if we somehow temper with the coin, and head and tail are not equally likely anymore? We make a weighted coin and look into its behavior."
   ]
  },
  {
   "cell_type": "code",
   "execution_count": 44,
   "metadata": {},
   "outputs": [
    {
     "name": "stdout",
     "output_type": "stream",
     "text": [
      "{}\n"
     ]
    },
    {
     "data": {
      "image/png": "[encoded data removed]",
      "text/plain": [
       "<Figure size 432x288 with 1 Axes>"
      ]
     },
     "metadata": {
      "needs_background": "light"
     },
     "output_type": "display_data"
    },
    {
     "data": {
      "image/png": "[encoded data removed]",
      "text/plain": [
       "<Figure size 432x288 with 1 Axes>"
      ]
     },
     "metadata": {
      "needs_background": "light"
     },
     "output_type": "display_data"
    }
   ],
   "source": [
    "# what we had before:\n",
    "\n",
    "def toss_coin(possible_outcomes):\n",
    "    outcome = random.sample(possible_outcomes, 1)[0]\n",
    "    return outcome\n",
    "\n",
    "toss_coin(possible_outcomes)\n",
    "\n",
    "# when the coin is weighted:\n",
    "\n",
    "possible_outcomes = ['head', 'tail']\n",
    "p_head = 0.2\n",
    "\n",
    "def toss_weighted_coin(possible_outcomes, p):\n",
    "    \n",
    "    outcome = None\n",
    "    \n",
    "    # TODO: write code here that has p_head probability of getting head from ['head', 'tail'] possible outcomes\n",
    "    # hint: the random() function from the package random could be useful\n",
    "    \n",
    "    return outcome\n",
    "\n",
    "def toss_weighted_coin_multiple_times(possible_outcomes, count, p):\n",
    "    \n",
    "    outcomes = []\n",
    "\n",
    "    # TODO: write code here that tosses a weighted coin 'count' times with probability of getting a head p\n",
    "    \n",
    "    return outcomes\n",
    "\n",
    "# toss_weighted_coin(possible_outcomes, p=p_head)\n",
    "\n",
    "outcomes = toss_weighted_coin_multiple_times(possible_outcomes, count=10, p=p_head)\n",
    "outcomes_summary = count_outcomes(outcomes)\n",
    "print(outcomes_summary)\n",
    "plot_outcomes(outcomes_summary)\n",
    "plot_outcomes_normalized(outcomes_summary)"
   ]
  },
  {
   "cell_type": "code",
   "execution_count": 37,
   "metadata": {},
   "outputs": [],
   "source": [
    "# mention monte carlo here and ask to repeat the process \n",
    "# (eg even write a for loop to find happens when it is repeated many times)"
   ]
  },
  {
   "cell_type": "code",
   "execution_count": 40,
   "metadata": {},
   "outputs": [],
   "source": [
    "# what if p_head = 0.5? - repeat the simulation above to see"
   ]
  },
  {
   "cell_type": "code",
   "execution_count": 52,
   "metadata": {},
   "outputs": [
    {
     "name": "stdout",
     "output_type": "stream",
     "text": [
      "[0 0 0 1 0 0 1 1 1 0]\n"
     ]
    },
    {
     "data": {
      "text/plain": [
       "<matplotlib.collections.LineCollection at 0x7f9c3e2cd070>"
      ]
     },
     "execution_count": 52,
     "metadata": {},
     "output_type": "execute_result"
    },
    {
     "data": {
      "image/png": "[encoded data removed]",
      "text/plain": [
       "<Figure size 432x288 with 1 Axes>"
      ]
     },
     "metadata": {
      "needs_background": "light"
     },
     "output_type": "display_data"
    }
   ],
   "source": [
    "# do we always have to estimate? can we sometimes compute directly?\n",
    "\n",
    "# there is specific probability distribution that can describe this\n",
    "\n",
    "p_head = 0.4\n",
    "\n",
    "print(bernoulli.rvs(p_head, size=10))\n",
    "\n",
    "x = np.arange(bernoulli.ppf(0.01, p_head),\n",
    "              bernoulli.ppf(0.99, p_head))\n",
    "\n",
    "fig, ax = plt.subplots(1, 1)\n",
    "ax.plot(x, bernoulli.pmf(x, p_head), 'bo', ms=8, label='bernoulli pmf')\n",
    "ax.vlines(x, 0, bernoulli.pmf(x, p_head), colors='b', lw=5, alpha=0.5)"
   ]
  },
  {
   "cell_type": "markdown",
   "metadata": {},
   "source": [
    "# Example 4: unfair die - to include or not?\n",
    "\n",
    "What if instead of unfair coin, we had an unfair die? "
   ]
  },
  {
   "cell_type": "code",
   "execution_count": null,
   "metadata": {},
   "outputs": [],
   "source": [
    "# write code here to simulate a die that is most likely to get 5 and 6 and less likely to get other values"
   ]
  },
  {
   "cell_type": "markdown",
   "metadata": {},
   "source": [
    "# Example: multiple coin tosses \n",
    "\n",
    "If we toss a coin 3 times, what is the probability that we get exactly 2 heads?\n",
    "\n",
    "What are the possible outcomes here, what are the events?"
   ]
  },
  {
   "cell_type": "code",
   "execution_count": null,
   "metadata": {},
   "outputs": [],
   "source": [
    "# see slides"
   ]
  },
  {
   "cell_type": "code",
   "execution_count": null,
   "metadata": {},
   "outputs": [],
   "source": [
    "def toss_coin_n_times(possible_outcomes, n):\n",
    "    outputs = []\n",
    "    \n",
    "    # write code here\n",
    "    \n",
    "    return outputs\n",
    "\n",
    "number_of_trials = None \n",
    "possible_outcomes = None\n",
    "\n",
    "toss_coin_n_times(possible_outcomes, number_of_trials)"
   ]
  },
  {
   "cell_type": "code",
   "execution_count": 38,
   "metadata": {},
   "outputs": [
    {
     "name": "stdout",
     "output_type": "stream",
     "text": [
      "{0: 6, 1: 4}\n"
     ]
    },
    {
     "data": {
      "image/png": "[encoded data removed]",
      "text/plain": [
       "<Figure size 432x288 with 1 Axes>"
      ]
     },
     "metadata": {
      "needs_background": "light"
     },
     "output_type": "display_data"
    },
    {
     "data": {
      "image/png": "[encoded data removed]",
      "text/plain": [
       "<Figure size 432x288 with 1 Axes>"
      ]
     },
     "metadata": {
      "needs_background": "light"
     },
     "output_type": "display_data"
    }
   ],
   "source": [
    "# Using a library for the same simulation:\n",
    "\n",
    "p_head = 0.2\n",
    "\n",
    "possible_outcomes = [\n",
    "    0, # tail\n",
    "    1  # head\n",
    "]\n",
    "\n",
    "number_of_trials = 10\n",
    "\n",
    "outcomes = binom.rvs(n=number_of_trials, p=head_probability, size=toss_counts).tolist()\n",
    "outcomes_summary = count_outcomes(outcomes)\n",
    "\n",
    "print(outcomes_summary)\n",
    "plot_outcomes(outcomes_summary)\n",
    "plot_outcomes_normalized(outcomes_summary)"
   ]
  }
 ],
 "metadata": {
  "kernelspec": {
   "display_name": "Python 3",
   "language": "python",
   "name": "python3"
  },
  "language_info": {
   "codemirror_mode": {
    "name": "ipython",
    "version": 3
   },
   "file_extension": ".py",
   "mimetype": "text/x-python",
   "name": "python",
   "nbconvert_exporter": "python",
   "pygments_lexer": "ipython3",
   "version": "3.8.3"
  },
  "varInspector": {
   "cols": {
    "lenName": 16,
    "lenType": 16,
    "lenVar": 40
   },
   "kernels_config": {
    "python": {
     "delete_cmd_postfix": "",
     "delete_cmd_prefix": "del ",
     "library": "var_list.py",
     "varRefreshCmd": "print(var_dic_list())"
    },
    "r": {
     "delete_cmd_postfix": ") ",
     "delete_cmd_prefix": "rm(",
     "library": "var_list.r",
     "varRefreshCmd": "cat(var_dic_list()) "
    }
   },
   "types_to_exclude": [
    "module",
    "function",
    "builtin_function_or_method",
    "instance",
    "_Feature"
   ],
   "window_display": false
  }
 },
 "nbformat": 4,
 "nbformat_minor": 1
}