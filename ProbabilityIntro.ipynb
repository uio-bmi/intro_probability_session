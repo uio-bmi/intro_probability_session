{
 "cells": [
  {
   "cell_type": "markdown",
   "metadata": {
    "collapsed": true
   },
   "source": [
    "# Introduction to Probability\n",
    "\n",
    "This notebook accompanies the Introduction to Probability lecture and includes the simulations and visualizations for different examples of the use of probability theory in practice. The aim of these examples is to build an intuition on how probability works."
   ]
  },
  {
   "cell_type": "code",
   "execution_count": 1,
   "metadata": {},
   "outputs": [],
   "source": [
    "import random\n",
    "import numpy as np\n",
    "import matplotlib.pyplot as plt"
   ]
  },
  {
   "cell_type": "markdown",
   "metadata": {},
   "source": [
    "## Example 1: a coin toss"
   ]
  },
  {
   "cell_type": "code",
   "execution_count": 2,
   "metadata": {},
   "outputs": [
    {
     "data": {
      "text/plain": [
       "'head'"
      ]
     },
     "execution_count": 2,
     "metadata": {},
     "output_type": "execute_result"
    }
   ],
   "source": [
    "possible_outcomes = {'head', 'tail'}\n",
    "\n",
    "def toss_coin(possible_outcomes):\n",
    "    outcome = random.sample(possible_outcomes, 1)[0]\n",
    "    return outcome\n",
    "\n",
    "toss_coin(possible_outcomes)"
   ]
  },
  {
   "cell_type": "code",
   "execution_count": 3,
   "metadata": {},
   "outputs": [
    {
     "data": {
      "text/plain": [
       "['head',\n",
       " 'tail',\n",
       " 'tail',\n",
       " 'head',\n",
       " 'head',\n",
       " 'tail',\n",
       " 'head',\n",
       " 'tail',\n",
       " 'tail',\n",
       " 'head']"
      ]
     },
     "execution_count": 3,
     "metadata": {},
     "output_type": "execute_result"
    }
   ],
   "source": [
    "def toss_coins(possible_outcomes, count):\n",
    "    outcomes = []\n",
    "    for i in range(count):\n",
    "        outcome = toss_coin(possible_outcomes)\n",
    "        outcomes.append(outcome)\n",
    "    return outcomes\n",
    "\n",
    "toss_coins(possible_outcomes, 10)"
   ]
  },
  {
   "cell_type": "code",
   "execution_count": 4,
   "metadata": {},
   "outputs": [
    {
     "data": {
      "text/plain": [
       "{'10 tosses': {'head': 5, 'tail': 5},\n",
       " '20 tosses': {'head': 10, 'tail': 10},\n",
       " '50 tosses': {'head': 25, 'tail': 25}}"
      ]
     },
     "execution_count": 4,
     "metadata": {},
     "output_type": "execute_result"
    }
   ],
   "source": [
    "# how often do we get head vs tail?\n",
    "\n",
    "def count_outcomes(outcomes):\n",
    "    values, counts = np.unique(outcomes, return_counts=True)\n",
    "    return dict(zip(values, counts))\n",
    "\n",
    "toss_counts = [10, 20, 50]\n",
    "\n",
    "def count_outcomes_per_toss(toss_counts):\n",
    "    result = {}\n",
    "    for toss_count in toss_counts:\n",
    "        outcomes = toss_coins(possible_outcomes, toss_count)\n",
    "        result[f\"{toss_count} tosses\"] = count_outcomes(outcomes)\n",
    "    return result\n",
    "\n",
    "outcomes_per_toss = count_outcomes_per_toss(toss_counts)\n",
    "outcomes_per_toss"
   ]
  },
  {
   "cell_type": "code",
   "execution_count": 5,
   "metadata": {},
   "outputs": [
    {
     "data": {
      "image/png": "[encoded data removed]",
      "text/plain": [
       "<Figure size 432x288 with 3 Axes>"
      ]
     },
     "metadata": {
      "needs_background": "light"
     },
     "output_type": "display_data"
    }
   ],
   "source": [
    "def plot_outcomes_per_toss(outcomes_per_toss):\n",
    "    fig, axs = plt.subplots(1, len(outcomes_per_toss.keys()), clear=True, sharey=True)\n",
    "    i = 0\n",
    "    for name, toss_summary in outcomes_per_toss.items():\n",
    "        x_values = toss_summary.keys()\n",
    "        y_values = toss_summary.values()\n",
    "        axs[i].bar(x_values, y_values)\n",
    "        axs[i].title.set_text(name)\n",
    "        i+=1\n",
    "\n",
    "plot_outcomes_per_toss(outcomes_per_toss)"
   ]
  },
  {
   "cell_type": "markdown",
   "metadata": {},
   "source": [
    "If we get heads and tails equally, we can think that a coin is fair. Are these coins fair? \n",
    "\n",
    "Write a function that instead of counts, plots the percentage of time heads and tails are obtained. Use the `plot_outcomes_per_toss` function as a starting point. "
   ]
  },
  {
   "cell_type": "code",
   "execution_count": 6,
   "metadata": {},
   "outputs": [
    {
     "data": {
      "image/png": "[encoded data removed]",
      "text/plain": [
       "<Figure size 432x288 with 3 Axes>"
      ]
     },
     "metadata": {
      "needs_background": "light"
     },
     "output_type": "display_data"
    }
   ],
   "source": [
    "def plot_outcomes_per_toss_percentage(outcomes_per_toss):\n",
    "    # remove below this: \n",
    "    fig, axs = plt.subplots(1, len(outcomes_per_toss.keys()), clear=True, sharey=True)\n",
    "    i = 0\n",
    "    for name, toss_summary in outcomes_per_toss.items():\n",
    "        x_values = toss_summary.keys()\n",
    "        y_values = np.array(list(toss_summary.values()))/sum(toss_summary.values())\n",
    "        axs[i].bar(x_values, y_values)\n",
    "        axs[i].title.set_text(name)\n",
    "        i+=1\n",
    "\n",
    "plot_outcomes_per_toss_percentage(outcomes_per_toss)"
   ]
  },
  {
   "cell_type": "code",
   "execution_count": 7,
   "metadata": {},
   "outputs": [],
   "source": [
    "# potentially add animation here that just runs and adds more and more throws (so it ends up 0.5 aand 0.5)"
   ]
  },
  {
   "cell_type": "code",
   "execution_count": 8,
   "metadata": {},
   "outputs": [],
   "source": [
    "# maybe here introduce the concept of probability distribution"
   ]
  },
  {
   "cell_type": "markdown",
   "metadata": {},
   "source": [
    "# Example 2: Rolling a die"
   ]
  },
  {
   "cell_type": "code",
   "execution_count": 9,
   "metadata": {},
   "outputs": [
    {
     "data": {
      "text/plain": [
       "5"
      ]
     },
     "execution_count": 9,
     "metadata": {},
     "output_type": "execute_result"
    }
   ],
   "source": [
    "possible_outcomes = {1, 2, 3, 4, 5, 6}\n",
    "\n",
    "def roll_die(possible_outcomes):\n",
    "    outcome = random.sample(possible_outcomes, 1)[0]\n",
    "    return outcome\n",
    "\n",
    "roll_die(possible_outcomes)"
   ]
  },
  {
   "cell_type": "code",
   "execution_count": 10,
   "metadata": {
    "scrolled": true
   },
   "outputs": [
    {
     "data": {
      "text/plain": [
       "[1,\n",
       " 5,\n",
       " 5,\n",
       " 6,\n",
       " 3,\n",
       " 6,\n",
       " 5,\n",
       " 4,\n",
       " 2,\n",
       " 4,\n",
       " 3,\n",
       " 6,\n",
       " 5,\n",
       " 6,\n",
       " 1,\n",
       " 6,\n",
       " 1,\n",
       " 3,\n",
       " 5,\n",
       " 1,\n",
       " 2,\n",
       " 1,\n",
       " 6,\n",
       " 2,\n",
       " 3,\n",
       " 3,\n",
       " 1,\n",
       " 1,\n",
       " 3,\n",
       " 5,\n",
       " 1,\n",
       " 2,\n",
       " 3,\n",
       " 4,\n",
       " 2,\n",
       " 1,\n",
       " 1,\n",
       " 1,\n",
       " 1,\n",
       " 2,\n",
       " 1,\n",
       " 2,\n",
       " 1,\n",
       " 4,\n",
       " 6,\n",
       " 3,\n",
       " 1,\n",
       " 4,\n",
       " 4,\n",
       " 6]"
      ]
     },
     "execution_count": 10,
     "metadata": {},
     "output_type": "execute_result"
    }
   ],
   "source": [
    "def roll_die_many_times(possible_outcomes, count):\n",
    "    outcomes = []\n",
    "    for i in range(count):\n",
    "        outcomes.append(random.sample(possible_outcomes, 1)[0])\n",
    "    return outcomes\n",
    "\n",
    "outcomes = roll_die_many_times(possible_outcomes, 50)\n",
    "outcomes"
   ]
  },
  {
   "cell_type": "code",
   "execution_count": 11,
   "metadata": {},
   "outputs": [
    {
     "data": {
      "text/plain": [
       "{1: 15, 2: 7, 3: 8, 4: 6, 5: 6, 6: 8}"
      ]
     },
     "execution_count": 11,
     "metadata": {},
     "output_type": "execute_result"
    }
   ],
   "source": [
    "count_outcomes(outcomes)"
   ]
  },
  {
   "cell_type": "code",
   "execution_count": 12,
   "metadata": {},
   "outputs": [
    {
     "data": {
      "text/plain": [
       "{'10 rolls': {1: 1, 2: 2, 3: 2, 5: 3, 6: 2},\n",
       " '50 rolls': {1: 9, 2: 12, 3: 4, 4: 11, 5: 6, 6: 8},\n",
       " '100 rolls': {1: 19, 2: 15, 3: 13, 4: 16, 5: 20, 6: 17},\n",
       " '1000 rolls': {1: 172, 2: 184, 3: 173, 4: 181, 5: 150, 6: 140}}"
      ]
     },
     "execution_count": 12,
     "metadata": {},
     "output_type": "execute_result"
    }
   ],
   "source": [
    "def count_outcomes_per_roll(roll_counts, possible_outcomes):\n",
    "    result = {}\n",
    "    for roll_count in roll_counts:\n",
    "        outcomes = roll_die_many_times(possible_outcomes, roll_count)\n",
    "        result[f\"{roll_count} rolls\"] = count_outcomes(outcomes)\n",
    "    return result\n",
    "\n",
    "roll_counts = [10, 50, 100, 1000]\n",
    "outcomes_per_roll = count_outcomes_per_roll(roll_counts, possible_outcomes)\n",
    "outcomes_per_roll"
   ]
  },
  {
   "cell_type": "code",
   "execution_count": 13,
   "metadata": {},
   "outputs": [
    {
     "data": {
      "image/png": "[encoded data removed]",
      "text/plain": [
       "<Figure size 432x288 with 4 Axes>"
      ]
     },
     "metadata": {
      "needs_background": "light"
     },
     "output_type": "display_data"
    }
   ],
   "source": [
    "def plot_outcomes_per_roll(outcomes_per_roll):\n",
    "    fig, axs = plt.subplots(1, len(outcomes_per_roll.keys()), clear=True, sharey=True)\n",
    "    i = 0\n",
    "    for name, roll_summary in outcomes_per_roll.items():\n",
    "        x_values = roll_summary.keys()\n",
    "        y_values = np.array(list(roll_summary.values()))/sum(roll_summary.values())\n",
    "        axs[i].bar(x_values, y_values)\n",
    "        axs[i].title.set_text(name)\n",
    "        i+=1\n",
    "\n",
    "plot_outcomes_per_roll(outcomes_per_roll)"
   ]
  },
  {
   "cell_type": "code",
   "execution_count": null,
   "metadata": {},
   "outputs": [],
   "source": [
    "# back to probability distributon and expected value and variation but for this data"
   ]
  }
 ],
 "metadata": {
  "kernelspec": {
   "display_name": "Python 3",
   "language": "python",
   "name": "python3"
  },
  "language_info": {
   "codemirror_mode": {
    "name": "ipython",
    "version": 3
   },
   "file_extension": ".py",
   "mimetype": "text/x-python",
   "name": "python",
   "nbconvert_exporter": "python",
   "pygments_lexer": "ipython3",
   "version": "3.8.3"
  },
  "varInspector": {
   "cols": {
    "lenName": 16,
    "lenType": 16,
    "lenVar": 40
   },
   "kernels_config": {
    "python": {
     "delete_cmd_postfix": "",
     "delete_cmd_prefix": "del ",
     "library": "var_list.py",
     "varRefreshCmd": "print(var_dic_list())"
    },
    "r": {
     "delete_cmd_postfix": ") ",
     "delete_cmd_prefix": "rm(",
     "library": "var_list.r",
     "varRefreshCmd": "cat(var_dic_list()) "
    }
   },
   "types_to_exclude": [
    "module",
    "function",
    "builtin_function_or_method",
    "instance",
    "_Feature"
   ],
   "window_display": false
  }
 },
 "nbformat": 4,
 "nbformat_minor": 1
}