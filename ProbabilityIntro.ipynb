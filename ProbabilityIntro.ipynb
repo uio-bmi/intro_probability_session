{
 "cells": [
  {
   "cell_type": "markdown",
   "metadata": {
    "collapsed": true
   },
   "source": [
    "# Introduction to Probability\n",
    "\n",
    "This notebook accompanies the Introduction to Probability lecture and includes the simulations and visualizations for different examples of the use of probability theory in practice. The aim of these examples is to build an intuition on how probability works."
   ]
  },
  {
   "cell_type": "code",
   "execution_count": null,
   "metadata": {},
   "outputs": [],
   "source": [
    "import random\n",
    "import numpy as np\n",
    "import matplotlib.pyplot as plt"
   ]
  },
  {
   "cell_type": "markdown",
   "metadata": {},
   "source": [
    "## Example 1: a coin toss"
   ]
  },
  {
   "cell_type": "code",
   "execution_count": 18,
   "metadata": {},
   "outputs": [
    {
     "data": {
      "text/plain": [
       "'head'"
      ]
     },
     "execution_count": 18,
     "metadata": {},
     "output_type": "execute_result"
    }
   ],
   "source": [
    "possible_outcomes = ['head', 'tail']\n",
    "\n",
    "def toss_coin(possible_outcomes):\n",
    "    outcome = random.sample(possible_outcomes, 1)[0]\n",
    "    return outcome\n",
    "\n",
    "toss_coin(possible_outcomes)"
   ]
  },
  {
   "cell_type": "code",
   "execution_count": 19,
   "metadata": {},
   "outputs": [
    {
     "data": {
      "text/plain": [
       "['tail',\n",
       " 'head',\n",
       " 'head',\n",
       " 'head',\n",
       " 'tail',\n",
       " 'head',\n",
       " 'tail',\n",
       " 'head',\n",
       " 'head',\n",
       " 'tail']"
      ]
     },
     "execution_count": 19,
     "metadata": {},
     "output_type": "execute_result"
    }
   ],
   "source": [
    "def toss_coin_multiple_times(possible_outcomes, count):\n",
    "    outcomes = []\n",
    "    for i in range(count):\n",
    "        outcome = toss_coin(possible_outcomes)\n",
    "        outcomes.append(outcome)\n",
    "    return outcomes\n",
    "\n",
    "toss_coin_multiple_times(possible_outcomes, 10)"
   ]
  },
  {
   "cell_type": "code",
   "execution_count": 20,
   "metadata": {},
   "outputs": [],
   "source": [
    "# how often do we get head vs tail?\n",
    "\n",
    "def count_outcomes(outcomes):\n",
    "    values, counts = np.unique(outcomes, return_counts=True)\n",
    "    return dict(zip(values, counts))\n",
    "\n",
    "def plot_outcomes(outcomes_summary):\n",
    "    fig, ax = plt.subplots(clear=True)\n",
    "    x_values = list(outcomes_summary.keys())\n",
    "    y_values = list(outcomes_summary.values())\n",
    "    ax.bar(x_values, y_values)\n",
    "    ax.title.set_text(f\"{sum(y_values)} tosses\")\n",
    "\n",
    "# TODO: add print statements\n",
    "# TODO: define bionimal distribution and empirical vs theoretical mean (here mention that this is also idea behind Monte Carlo)\n"
   ]
  },
  {
   "cell_type": "code",
   "execution_count": 23,
   "metadata": {},
   "outputs": [
    {
     "name": "stdout",
     "output_type": "stream",
     "text": [
      "{'head': 510, 'tail': 490}\n"
     ]
    },
    {
     "data": {
      "image/png": "[encoded data removed]",
      "text/plain": [
       "<Figure size 432x288 with 1 Axes>"
      ]
     },
     "metadata": {
      "needs_background": "light"
     },
     "output_type": "display_data"
    }
   ],
   "source": [
    "outcomes = toss_coin_multiple_times(possible_outcomes, count=1000)\n",
    "outcomes_summary = count_outcomes(outcomes)\n",
    "print(outcomes_summary)\n",
    "plot_outcomes(outcomes_summary)"
   ]
  },
  {
   "cell_type": "markdown",
   "metadata": {},
   "source": [
    "Look into the results above: \n",
    "\n",
    "- did you get 10 heads or 10 tails, and 0 for the other option?\n",
    "- what happens if there are more tosses, say 100?"
   ]
  },
  {
   "cell_type": "code",
   "execution_count": 24,
   "metadata": {},
   "outputs": [
    {
     "data": {
      "image/png": "[encoded data removed]",
      "text/plain": [
       "<Figure size 432x288 with 1 Axes>"
      ]
     },
     "metadata": {
      "needs_background": "light"
     },
     "output_type": "display_data"
    }
   ],
   "source": [
    "def plot_outcomes_normalized(outcomes_summary):\n",
    "    fig, ax = plt.subplots(clear=True)\n",
    "    toss_count = sum(list(outcomes_summary.values()))\n",
    "    x_values = list(outcomes_summary.keys())\n",
    "    y_values = np.array(list(outcomes_summary.values())) / toss_count\n",
    "    ax.bar(x_values, y_values)\n",
    "    ax.title.set_text(f\"{toss_count} tosses\")\n",
    "\n",
    "plot_outcomes_normalized(outcomes_summary)"
   ]
  },
  {
   "cell_type": "code",
   "execution_count": null,
   "metadata": {},
   "outputs": [],
   "source": [
    "# here go to slides and briefly introduce the concept of probability distribution \n",
    "# (slides 2-4 https://docs.google.com/presentation/d/1YInfL0FQCwfKzl20R0SuDB0SuvpoQVQ7dYsTHFY5-D4/edit?usp=sharing)"
   ]
  },
  {
   "cell_type": "code",
   "execution_count": null,
   "metadata": {},
   "outputs": [],
   "source": []
  },
  {
   "cell_type": "code",
   "execution_count": null,
   "metadata": {},
   "outputs": [],
   "source": [
    "# What if instead of a coin, we had a die? What would the simulation look like then?\n",
    "\n",
    "# TODO: write the same simulation here, but instead of tossing a coin, the simulation should roll a 6-sided die"
   ]
  },
  {
   "cell_type": "code",
   "execution_count": null,
   "metadata": {},
   "outputs": [],
   "source": [
    "# potentially add animation here that just runs and adds more and more throws (so it ends up 0.5 aand 0.5)"
   ]
  }
 ],
 "metadata": {
  "kernelspec": {
   "display_name": "Python 3",
   "language": "python",
   "name": "python3"
  },
  "language_info": {
   "codemirror_mode": {
    "name": "ipython",
    "version": 3
   },
   "file_extension": ".py",
   "mimetype": "text/x-python",
   "name": "python",
   "nbconvert_exporter": "python",
   "pygments_lexer": "ipython3",
   "version": "3.8.3"
  },
  "varInspector": {
   "cols": {
    "lenName": 16,
    "lenType": 16,
    "lenVar": 40
   },
   "kernels_config": {
    "python": {
     "delete_cmd_postfix": "",
     "delete_cmd_prefix": "del ",
     "library": "var_list.py",
     "varRefreshCmd": "print(var_dic_list())"
    },
    "r": {
     "delete_cmd_postfix": ") ",
     "delete_cmd_prefix": "rm(",
     "library": "var_list.r",
     "varRefreshCmd": "cat(var_dic_list()) "
    }
   },
   "types_to_exclude": [
    "module",
    "function",
    "builtin_function_or_method",
    "instance",
    "_Feature"
   ],
   "window_display": false
  }
 },
 "nbformat": 4,
 "nbformat_minor": 1
}